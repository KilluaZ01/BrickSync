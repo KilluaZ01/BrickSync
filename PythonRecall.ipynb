{
  "nbformat": 4,
  "nbformat_minor": 0,
  "metadata": {
    "colab": {
      "provenance": [],
      "authorship_tag": "ABX9TyPNThmoxM/NldrJNInjR7Ul",
      "include_colab_link": true
    },
    "kernelspec": {
      "name": "python3",
      "display_name": "Python 3"
    },
    "language_info": {
      "name": "python"
    }
  },
  "cells": [
    {
      "cell_type": "markdown",
      "metadata": {
        "id": "view-in-github",
        "colab_type": "text"
      },
      "source": [
        "<a href=\"https://colab.research.google.com/github/KilluaZ01/BrickSync/blob/main/PythonRecall.ipynb\" target=\"_parent\"><img src=\"https://colab.research.google.com/assets/colab-badge.svg\" alt=\"Open In Colab\"/></a>"
      ]
    },
    {
      "cell_type": "code",
      "execution_count": null,
      "metadata": {
        "colab": {
          "base_uri": "https://localhost:8080/"
        },
        "id": "eY6_dcgAxCJT",
        "outputId": "5bfba4db-ac83-452c-a5e6-5009ab20c176"
      },
      "outputs": [
        {
          "output_type": "stream",
          "name": "stdout",
          "text": [
            "[2, 3]\n"
          ]
        }
      ],
      "source": [
        "#WAP to filter the duplicate elements fromt the list\n",
        "\n",
        "items = [2,2,3,3,3]\n",
        "newlist = []\n",
        "\n",
        "for i in items:\n",
        "  if items.count(i) > 1:\n",
        "    if i not in newlist:\n",
        "      newlist.append(i)\n",
        "\n",
        "print(newlist)"
      ]
    },
    {
      "cell_type": "code",
      "source": [
        "items = [2,2,3,3,3]\n",
        "newlist = []\n",
        "\n",
        "for i in items:\n",
        "  if i not in newlist:\n",
        "    newlist.append(i)\n",
        "\n",
        "print(newlist)"
      ],
      "metadata": {
        "colab": {
          "base_uri": "https://localhost:8080/"
        },
        "id": "-wMVI3QvxsS2",
        "outputId": "b5c9cf89-06e5-4019-b4fc-d635a18cf181"
      },
      "execution_count": null,
      "outputs": [
        {
          "output_type": "stream",
          "name": "stdout",
          "text": [
            "[2, 3]\n"
          ]
        }
      ]
    },
    {
      "cell_type": "code",
      "source": [
        "items = [2,2,3,3,3,3]\n",
        "newlist = []\n",
        "\n",
        "for i in items:\n",
        "  if items.count(i) > 1:\n",
        "    if i not in newlist:\n",
        "      if items.count(i) > 1 and items.count(i) % 2 != 0:\n",
        "        newlist.append(i)\n",
        "        newlist.append(i)\n",
        "      else:\n",
        "        newlist.append(i)\n",
        "\n",
        "print(newlist)"
      ],
      "metadata": {
        "colab": {
          "base_uri": "https://localhost:8080/"
        },
        "id": "2QCDmlYXyibp",
        "outputId": "ea86e73f-1646-476f-9809-7de362851015"
      },
      "execution_count": null,
      "outputs": [
        {
          "output_type": "stream",
          "name": "stdout",
          "text": [
            "[2, 3]\n"
          ]
        }
      ]
    },
    {
      "cell_type": "code",
      "source": [
        "items = [2,2,3,3,3]\n",
        "newlist = []\n",
        "\n",
        "for i in items:\n",
        "  if i not in newlist:\n",
        "    newlist.append(i)\n",
        "    if items.count(i) > 2:\n",
        "      newlist.append(i)\n",
        "\n",
        "print(newlist)"
      ],
      "metadata": {
        "colab": {
          "base_uri": "https://localhost:8080/"
        },
        "id": "tVYSA9RqznTt",
        "outputId": "831a8b2a-e844-49e2-b1d6-ee7a64abdba3"
      },
      "execution_count": null,
      "outputs": [
        {
          "output_type": "stream",
          "name": "stdout",
          "text": [
            "[2, 3, 3]\n"
          ]
        }
      ]
    },
    {
      "cell_type": "code",
      "source": [
        "# Duplicate\n",
        "\n",
        "items = [2,2,3,3,1]\n",
        "newlist = []\n",
        "\n",
        "for i in items:\n",
        "  if items.count(i) > 1:\n",
        "    if i not in newlist:\n",
        "      newlist.append(i)\n",
        "\n",
        "print(newlist)"
      ],
      "metadata": {
        "colab": {
          "base_uri": "https://localhost:8080/"
        },
        "id": "x3_eSdUo1Aup",
        "outputId": "de100dc1-d25d-4231-a4b3-4e1134173c0e"
      },
      "execution_count": null,
      "outputs": [
        {
          "output_type": "stream",
          "name": "stdout",
          "text": [
            "[2, 3]\n"
          ]
        }
      ]
    },
    {
      "cell_type": "code",
      "source": [
        "# Unique\n",
        "\n",
        "items = [2,2,3,3,1]\n",
        "unique_list = []\n",
        "\n",
        "for i in items:\n",
        "  if i not in unique_list:\n",
        "    unique_list.append(i)\n",
        "\n",
        "print(unique_list)"
      ],
      "metadata": {
        "colab": {
          "base_uri": "https://localhost:8080/"
        },
        "id": "OBMd7Frn1VkQ",
        "outputId": "3b6928c3-8096-4113-e169-9aab2fa212ad"
      },
      "execution_count": null,
      "outputs": [
        {
          "output_type": "stream",
          "name": "stdout",
          "text": [
            "[2, 3, 1]\n"
          ]
        }
      ]
    },
    {
      "cell_type": "code",
      "source": [
        "items = [1,1,2,3,3]\n",
        "items_dup = []\n",
        "\n",
        "unique_list = []\n",
        "\n",
        "for i in items:\n",
        "  if i not in unique_list:\n",
        "    unique_list.append(i)\n",
        "\n",
        "while True:\n",
        "  for index, value in enumerate(items):\n",
        "    if items.count(value) > 1:\n",
        "      items_dup.append(value)\n",
        "      items.pop(index)\n",
        "  if len(items) == len(unique_list):\n",
        "    break\n",
        "\n",
        "print(items_dup)\n"
      ],
      "metadata": {
        "colab": {
          "base_uri": "https://localhost:8080/"
        },
        "id": "qQC68wEV2DoJ",
        "outputId": "4bc8fcc9-ede1-488d-a5d7-b8a1f9deb95b"
      },
      "execution_count": null,
      "outputs": [
        {
          "output_type": "stream",
          "name": "stdout",
          "text": [
            "[1, 3]\n"
          ]
        }
      ]
    },
    {
      "cell_type": "code",
      "source": [],
      "metadata": {
        "colab": {
          "base_uri": "https://localhost:8080/"
        },
        "id": "7P-zpLLa9xpP",
        "outputId": "96585911-4afb-4fb2-fb6b-1ea6428a8b85"
      },
      "execution_count": null,
      "outputs": [
        {
          "output_type": "stream",
          "name": "stdout",
          "text": [
            "[3, 1, 2]\n"
          ]
        }
      ]
    }
  ]
}